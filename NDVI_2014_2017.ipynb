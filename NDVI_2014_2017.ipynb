{
  "cells": [
    {
      "cell_type": "markdown",
      "metadata": {},
      "source": [
        "<table class=\"ee-notebook-buttons\" align=\"left\">\n",
        "    <td><a target=\"_blank\"  href=\"https://github.com/giswqs/geemap/tree/master/examples/template/template.ipynb\"><img width=32px src=\"https://www.tensorflow.org/images/GitHub-Mark-32px.png\" /> View source on GitHub</a></td>\n",
        "    <td><a target=\"_blank\"  href=\"https://nbviewer.jupyter.org/github/giswqs/geemap/blob/master/examples/template/template.ipynb\"><img width=26px src=\"https://upload.wikimedia.org/wikipedia/commons/thumb/3/38/Jupyter_logo.svg/883px-Jupyter_logo.svg.png\" />Notebook Viewer</a></td>\n",
        "    <td><a target=\"_blank\"  href=\"https://colab.research.google.com/github/giswqs/geemap/blob/master/examples/template/template.ipynb\"><img src=\"https://www.tensorflow.org/images/colab_logo_32px.png\" /> Run in Google Colab</a></td>\n",
        "</table>"
      ]
    },
    {
      "cell_type": "markdown",
      "metadata": {},
      "source": [
        "## Install Earth Engine API and geemap\n",
        "Install the [Earth Engine Python API](https://developers.google.com/earth-engine/python_install) and [geemap](https://github.com/giswqs/geemap). The **geemap** Python package is built upon the [ipyleaflet](https://github.com/jupyter-widgets/ipyleaflet) and [folium](https://github.com/python-visualization/folium) packages and implements several methods for interacting with Earth Engine data layers, such as `Map.addLayer()`, `Map.setCenter()`, and `Map.centerObject()`.\n",
        "The following script checks if the geemap package has been installed. If not, it will install geemap, which automatically installs its [dependencies](https://github.com/giswqs/geemap#dependencies), including earthengine-api, folium, and ipyleaflet.\n",
        "\n",
        "**Important note**: A key difference between folium and ipyleaflet is that ipyleaflet is built upon ipywidgets and allows bidirectional communication between the front-end and the backend enabling the use of the map to capture user input, while folium is meant for displaying static data only ([source](https://blog.jupyter.org/interactive-gis-in-jupyter-with-ipyleaflet-52f9657fa7a)). Note that [Google Colab](https://colab.research.google.com/) currently does not support ipyleaflet ([source](https://github.com/googlecolab/colabtools/issues/60#issuecomment-596225619)). Therefore, if you are using geemap with Google Colab, you should use [`import geemap.eefolium`](https://github.com/giswqs/geemap/blob/master/geemap/eefolium.py). If you are using geemap with [binder](https://mybinder.org/) or a local Jupyter notebook server, you can use [`import geemap`](https://github.com/giswqs/geemap/blob/master/geemap/geemap.py), which provides more functionalities for capturing user input (e.g., mouse-clicking and moving)."
      ]
    },
    {
      "cell_type": "code",
      "metadata": {},
      "source": [
        "# Installs geemap package\n",
        "import subprocess\n",
        "\n",
        "try:\n",
        "    import geemap\n",
        "except ImportError:\n",
        "    print('geemap package not installed. Installing ...')\n",
        "    subprocess.check_call([\"python\", '-m', 'pip', 'install', 'geemap'])\n",
        "\n",
        "# Checks whether this notebook is running on Google Colab\n",
        "try:\n",
        "    import google.colab\n",
        "    import geemap.eefolium as geemap\n",
        "except:\n",
        "    import geemap\n",
        "\n",
        "# Authenticates and initializes Earth Engine\n",
        "import ee\n",
        "\n",
        "try:\n",
        "    ee.Initialize()\n",
        "except Exception as e:\n",
        "    ee.Authenticate()\n",
        "    ee.Initialize()  "
      ],
      "outputs": [],
      "execution_count": null
    },
    {
      "cell_type": "markdown",
      "metadata": {},
      "source": [
        "## Create an interactive map \n",
        "The default basemap is `Google Maps`. [Additional basemaps](https://github.com/giswqs/geemap/blob/master/geemap/basemaps.py) can be added using the `Map.add_basemap()` function. "
      ]
    },
    {
      "cell_type": "code",
      "metadata": {},
      "source": [
        "Map = geemap.Map(center=[40,-100], zoom=4)\n",
        "Map"
      ],
      "outputs": [],
      "execution_count": null
    },
    {
      "cell_type": "markdown",
      "metadata": {},
      "source": [
        "## Add Earth Engine Python script "
      ]
    },
    {
      "cell_type": "code",
      "metadata": {},
      "source": [
        "# Add Earth Engine dataset\n",
        "# To find the images that are available in a specific date in a specific time, we need to create an image collection first.\n",
        "\n",
        "# The image collection can filtered with location of the points and dates of two time periods.\n",
        "# In this example, I have chosen first image during the month of July in 2014 and 2017\n",
        "# # Creating Image Collection of July 2014\n",
        "imageCol2014 = ee.ImageCollection('LANDSAT/LC08/C01/T1_TOA') \\\n",
        "    .filterBounds(ee.Geometry.Point(98.5265, 20.4715)) \\\n",
        "    .filterDate('2014-07-01', '2014-07-30')\n",
        "\n",
        "# # Creating Image Collection of July 2017\n",
        "imageCol2017 = ee.ImageCollection('LANDSAT/LC08/C01/T1_TOA') \\\n",
        "    .filterBounds(ee.Geometry.Point(98.5265, 20.4715)) \\\n",
        "    .filterDate('2017-07-01', '2017-07-30')\n",
        "\n",
        "# Checking the image collection\n",
        "print(imageCol2014)\n",
        "\n",
        "# The first image can be selected with .first() command. However, to do with more flexible calling of\n",
        "# an image from a image collection, I did it with list.\n",
        "\n",
        "# Converting the list and selecting the first image\n",
        "# for 2014\n",
        "listCol2014 = imageCol2014.toList(50)\n",
        "img2014 = ee.Image(listCol2014.get(0))\n",
        "# for 2017\n",
        "img2017 = ee.Image(imageCol2017.first())\n",
        "\n",
        "# Checking the image\n",
        "print(img2017)\n",
        "\n",
        "\n",
        "# NDVI can be calculated using expression\n",
        "# # NDVI for 2014\n",
        "ndvi2014 = img2014.expression(\n",
        "'(NIR - RED) / (NIR + RED)' , {\n",
        "'NIR' : img2014.select('B4'),\n",
        "'RED' : img2014.select('B3')\n",
        "} ) \n",
        "\n",
        "# NDVI can be calculated using math operation\n",
        "# # NDVI for 2017\n",
        "ndvi2017 = img2017.select('B4').subtract(img2017.select('B3')) \\\n",
        ".divide(img2017.select('B4').add(img2017.select('B3')))\n",
        "\n",
        "# Load the land mask from the SRTM DEM.\n",
        "landMask = ee.Image('CGIAR/SRTM90_V4').mask()\n",
        "\n",
        "# Analyzing the difference\n",
        "ndviChange = ndvi2017.subtract(ndvi2014)\n",
        "\n",
        "# Updating the land mask\n",
        "ndviUp = ndviChange.updateMask(landMask)\n",
        "\n",
        "# Ploting in map layer\n",
        "Map.centerObject(ndvi2017, 9)\n",
        "Map.addLayer(ndviUp, { 'min':-0.3, 'max': 0.3, 'palette': [ 'FFFFFF', '0000FF', 'FF0000']}, \"Changes of NDVI  from 2014 to 2017\" )\n"
      ],
      "outputs": [],
      "execution_count": null
    },
    {
      "cell_type": "markdown",
      "metadata": {},
      "source": [
        "## Display Earth Engine data layers "
      ]
    },
    {
      "cell_type": "code",
      "metadata": {},
      "source": [
        "Map.addLayerControl() # This line is not needed for ipyleaflet-based Map.\n",
        "Map"
      ],
      "outputs": [],
      "execution_count": null
    }
  ],
  "metadata": {
    "anaconda-cloud": {},
    "kernelspec": {
      "display_name": "Python 3",
      "language": "python",
      "name": "python3"
    },
    "language_info": {
      "codemirror_mode": {
        "name": "ipython",
        "version": 3
      },
      "file_extension": ".py",
      "mimetype": "text/x-python",
      "name": "python",
      "nbconvert_exporter": "python",
      "pygments_lexer": "ipython3",
      "version": "3.6.1"
    }
  },
  "nbformat": 4,
  "nbformat_minor": 4
}